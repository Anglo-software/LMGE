{
 "cells": [
  {
   "cell_type": "markdown",
   "metadata": {},
   "source": [
    "# Metric\n",
    "\n",
    "$$ g_{0 0} = 1 $$\n",
    "$$ g_{0 1} = 0 $$\n",
    "$$ g_{0 2} = 0 $$\n",
    "$$ g_{0 3} = 0 $$\n",
    "$$ g_{1 0} = 0 $$\n",
    "$$ g_{1 1} = - \\frac {1} {(\\frac {3} {2} (A - W)) ^ {\\frac {2} {3}}} $$\n",
    "$$ g_{1 2} = 0 $$\n",
    "$$ g_{1 3} = 0 $$\n",
    "$$ g_{2 0} = 0 $$\n",
    "$$ g_{2 1} = 0 $$\n",
    "$$ g_{2 2} = - ((\\frac {3} {2} (A - W)) ^ {\\frac {2} {3}})^2 $$\n",
    "$$ g_{2 3} = 0 $$\n",
    "$$ g_{3 0} = 0 $$\n",
    "$$ g_{3 1} = 0 $$\n",
    "$$ g_{3 2} = 0 $$\n",
    "$$ g_{3 3} = - ((\\frac {3} {2} (A - W)) ^ {\\frac {2} {3}})^2 \\sin^2{B} $$\n",
    "\n",
    "# Surfaces \n",
    "\n",
    "## Surface 0\n",
    "\n",
    "$ F = \\sqrt{x^2 + y^2 + z^2} $   \n",
    "$ L = 1.0 $   \n",
    "$ E = 0.0 $   \n",
    "$ Cr = 0.0 $   \n",
    "$ Cg = 0.0 $   \n",
    "$ Cb = 0.0 $   \n",
    "$ T = 0 $ \n",
    "\n",
    "## Surface 1\n",
    "\n",
    "$ F = \\frac {(\\sqrt{x^2 + y^2} - 5)^2} {1^2} + \\frac {z^2} {0.2^2} $   \n",
    "$ L = 1.0 $   \n",
    "$ E = 0.0 $   \n",
    "$ Cr = 1.0 $   \n",
    "$ Cg = 1.0 $   \n",
    "$ Cb = 1.0 $   \n",
    "$ T = 1 $   \n",
    "\n",
    "# Coordinates\n",
    "\n",
    "Program coordinates: x, y, z   \n",
    "Metric Coordinates: a, b, c\n",
    "\n",
    "$ t = w - 2 \\sqrt{(\\frac {3} {2} (a - w)) ^ {\\frac {2} {3}}} + \\ln{\\sqrt{(\\frac {3} {2} (a - w)) ^ {\\frac {2} {3}}} + 1} - \\ln{|\\sqrt{(\\frac {3} {2} (a - w)) ^ {\\frac {2} {3}}} - 1|} $   \n",
    "$ x = (\\frac {3} {2} ( a - w)) ^ {\\frac {2} {3}} \\sin{b} \\cos{c} $   \n",
    "$ y = (\\frac {3} {2} ( a - w)) ^ {\\frac {2} {3}} \\sin{b} \\sin{c} $   \n",
    "$ z = (\\frac {3} {2} ( a - w)) ^ {\\frac {2} {3}} \\cos{b} $   \n",
    "\n",
    "$ w = t + 2 \\sqrt{\\sqrt{x^2 + y^2 + z^2}} - \\ln{\\sqrt{\\sqrt{x^2 + y^2 + z^2}} + 1} + \\ln{|\\sqrt{\\sqrt{x^2 + y^2 + z^2}} - 1|} $   \n",
    "$ a = t + \\frac {2} {3} \\sqrt{x^2 + y^2 + z^2} ^ {\\frac {3} {2}} + 2 \\sqrt{\\sqrt{x^2 + y^2 + z^2}} - \\ln{|\\sqrt{\\sqrt{x^2 + y^2 + z^2}} + 1|} + \\ln{|\\sqrt{\\sqrt{x^2 + y^2 + z^2}} - 1|} $   \n",
    "$ b = \\arccos{\\frac {z} {\\sqrt{x^2 + y^2 + z^2}}} $   \n",
    "$ c = \\arctan{\\frac {y} {x}} $"
   ]
  }
 ],
 "metadata": {
  "kernelspec": {
   "display_name": "Python 3",
   "language": "python",
   "name": "python3"
  },
  "language_info": {
   "codemirror_mode": {
    "name": "ipython",
    "version": 3
   },
   "file_extension": ".py",
   "mimetype": "text/x-python",
   "name": "python",
   "nbconvert_exporter": "python",
   "pygments_lexer": "ipython3",
   "version": "3.7.3"
  }
 },
 "nbformat": 4,
 "nbformat_minor": 4
}
